{
  "nbformat": 4,
  "nbformat_minor": 0,
  "metadata": {
    "colab": {
      "provenance": [],
      "authorship_tag": "ABX9TyPXd7mtiAQFGbX0Tm+lxKHs",
      "include_colab_link": true
    },
    "kernelspec": {
      "name": "python3",
      "display_name": "Python 3"
    },
    "language_info": {
      "name": "python"
    }
  },
  "cells": [
    {
      "cell_type": "markdown",
      "metadata": {
        "id": "view-in-github",
        "colab_type": "text"
      },
      "source": [
        "<a href=\"https://colab.research.google.com/github/guilhermeaugustopiresdasilva/PA/blob/main/exerc%C3%ADcios_de_pa.ipynb\" target=\"_parent\"><img src=\"https://colab.research.google.com/assets/colab-badge.svg\" alt=\"Open In Colab\"/></a>"
      ]
    },
    {
      "cell_type": "code",
      "execution_count": null,
      "metadata": {
        "colab": {
          "base_uri": "https://localhost:8080/"
        },
        "id": "rfy6WIKD6GGQ",
        "outputId": "b83f7d94-d29d-4da1-d4b9-7966f3b1457a"
      },
      "outputs": [
        {
          "output_type": "stream",
          "name": "stdout",
          "text": [
            "Informe o número inicial: 15\n",
            "Informe o número final: 25\n",
            "15\n",
            "16\n",
            "17\n",
            "18\n",
            "19\n",
            "20\n",
            "21\n",
            "22\n",
            "23\n",
            "24\n",
            "25\n"
          ]
        }
      ],
      "source": [
        "# Solicita ao usuário os números inicial e final\n",
        "numero_inicial = int(input(\"Informe o número inicial: \"))\n",
        "numero_final = int(input(\"Informe o número final: \"))\n",
        "\n",
        "# Loop para imprimir os números no intervalo\n",
        "for numero in range(numero_inicial, numero_final + 1):\n",
        "    print(numero)"
      ]
    },
    {
      "cell_type": "code",
      "source": [
        "# Solicita ao usuário o número para a tabuada\n",
        "numero = int(input(\"Informe o número para a tabuada: \"))\n",
        "\n",
        "# Loop para imprimir a tabuada de 1 a 10\n",
        "for i in range(1, 11):\n",
        "    resultado = numero * i\n",
        "    print(f\"{numero} x {i} = {resultado}\")"
      ],
      "metadata": {
        "colab": {
          "base_uri": "https://localhost:8080/"
        },
        "id": "mgxJt6xQ6cQv",
        "outputId": "e468f25b-8928-439a-fb3a-3d72445b19e9"
      },
      "execution_count": null,
      "outputs": [
        {
          "output_type": "stream",
          "name": "stdout",
          "text": [
            "Informe o número para a tabuada: 9\n",
            "9 x 1 = 9\n",
            "9 x 2 = 18\n",
            "9 x 3 = 27\n",
            "9 x 4 = 36\n",
            "9 x 5 = 45\n",
            "9 x 6 = 54\n",
            "9 x 7 = 63\n",
            "9 x 8 = 72\n",
            "9 x 9 = 81\n",
            "9 x 10 = 90\n"
          ]
        }
      ]
    },
    {
      "cell_type": "code",
      "source": [
        "# Loop para gerar e imprimir números ímpares entre 100 e 200\n",
        "for numero in range(101, 200, 2):\n",
        "    print(numero)"
      ],
      "metadata": {
        "colab": {
          "base_uri": "https://localhost:8080/"
        },
        "id": "7SeDYr9Z6qNP",
        "outputId": "c6dbae46-e8fc-43c0-de6b-92d35213c96a"
      },
      "execution_count": null,
      "outputs": [
        {
          "output_type": "stream",
          "name": "stdout",
          "text": [
            "101\n",
            "103\n",
            "105\n",
            "107\n",
            "109\n",
            "111\n",
            "113\n",
            "115\n",
            "117\n",
            "119\n",
            "121\n",
            "123\n",
            "125\n",
            "127\n",
            "129\n",
            "131\n",
            "133\n",
            "135\n",
            "137\n",
            "139\n",
            "141\n",
            "143\n",
            "145\n",
            "147\n",
            "149\n",
            "151\n",
            "153\n",
            "155\n",
            "157\n",
            "159\n",
            "161\n",
            "163\n",
            "165\n",
            "167\n",
            "169\n",
            "171\n",
            "173\n",
            "175\n",
            "177\n",
            "179\n",
            "181\n",
            "183\n",
            "185\n",
            "187\n",
            "189\n",
            "191\n",
            "193\n",
            "195\n",
            "197\n",
            "199\n"
          ]
        }
      ]
    },
    {
      "cell_type": "code",
      "source": [
        "# Dicionário de contas e senhas (substitua pelos dados reais)\n",
        "contas_e_senhas = {\n",
        "    122345: \"1234\",\n",
        "    567890: \"5678\",\n",
        "    # Adicione mais contas e senhas, se necessário\n",
        "}\n",
        "\n",
        "# Contador de tentativas\n",
        "tentativas = 0\n",
        "\n",
        "while tentativas < 3:\n",
        "    # Solicita o código da conta e a senha\n",
        "    codigo_conta = int(input(\"Digite o código da conta: \"))\n",
        "    senha = input(\"Digite a senha: \")\n",
        "\n",
        "    # Verifica se o código da conta existe e a senha está correta\n",
        "    if codigo_conta in contas_e_senhas and contas_e_senhas[codigo_conta] == senha:\n",
        "        print(\"Acesso autorizado. Bem-vindo!\")\n",
        "        break  # Sai do loop se a autenticação for bem-sucedida\n",
        "    else:\n",
        "        print(\"Código da conta ou senha incorretos. Tente novamente.\")\n",
        "        tentativas += 1\n",
        "\n",
        "if tentativas == 3:\n",
        "    print(\"Você excedeu o número máximo de tentativas. A conta foi cancelada.\")"
      ],
      "metadata": {
        "colab": {
          "base_uri": "https://localhost:8080/"
        },
        "id": "Th9p0WjV6zUo",
        "outputId": "dd04d4f0-be96-4be5-c623-1631b23f5e88"
      },
      "execution_count": null,
      "outputs": [
        {
          "output_type": "stream",
          "name": "stdout",
          "text": [
            "Digite o código da conta: 1234\n",
            "Digite a senha: 5678\n",
            "Código da conta ou senha incorretos. Tente novamente.\n",
            "Digite o código da conta: 1234\n",
            "Digite a senha: 5678\n",
            "Código da conta ou senha incorretos. Tente novamente.\n",
            "Digite o código da conta: 1234\n",
            "Digite a senha: 5678\n",
            "Código da conta ou senha incorretos. Tente novamente.\n",
            "Você excedeu o número máximo de tentativas. A conta foi cancelada.\n"
          ]
        }
      ]
    },
    {
      "cell_type": "code",
      "source": [
        "# Dicionário de contas e saldos (substitua pelos dados reais)\n",
        "contas_e_saldos = {\n",
        "    122345: 1000.0,\n",
        "    567890: 500.0,\n",
        "    # Adicione mais contas e saldos, se necessário\n",
        "}\n",
        "\n",
        "# Contador de tentativas\n",
        "tentativas = 0\n",
        "\n",
        "while tentativas < 3:\n",
        "    # Solicita o código da conta e a senha\n",
        "    codigo_conta = int(input(\"Digite o código da conta: \"))\n",
        "    senha = input(\"Digite a senha: \")\n",
        "\n",
        "    # Verifica se o código da conta existe e a senha está correta\n",
        "    if codigo_conta in contas_e_saldos and contas_e_saldos[codigo_conta] == senha:\n",
        "        print(\"Acesso autorizado. Bem-vindo!\")\n",
        "\n",
        "        # Menu de operações\n",
        "        while True:\n",
        "            print(\"\\nEscolha uma operação:\")\n",
        "            print(\"1. Saque\")\n",
        "            print(\"2. Depósito\")\n",
        "            print(\"3. Ver saldo\")\n",
        "            print(\"4. Sair\")\n",
        "            escolha = int(input(\"Digite o número da operação desejada: \"))\n",
        "\n",
        "            if escolha == 1:  # Saque\n",
        "                valor_saque = float(input(\"Digite o valor a sacar: \"))\n",
        "                if valor_saque > contas_e_saldos[codigo_conta]:\n",
        "                    print(\"Saldo insuficiente. Operação cancelada.\")\n",
        "                else:\n",
        "                    contas_e_saldos[codigo_conta] -= valor_saque\n",
        "                    print(f\"Saque de {valor_saque} realizado. Saldo atual: {contas_e_saldos[codigo_conta]}\")\n",
        "\n",
        "            elif escolha == 2:  # Depósito\n",
        "                valor_deposito = float(input(\"Digite o valor a depositar: \"))\n",
        "                contas_e_saldos[codigo_conta] += valor_deposito\n",
        "                print(f\"Depósito de {valor_deposito} realizado. Saldo atual: {contas_e_saldos[codigo_conta]}\")\n",
        "\n",
        "            elif escolha == 3:  # Ver saldo\n",
        "                print(f\"Saldo da conta: {contas_e_saldos[codigo_conta]}\")\n",
        "\n",
        "            elif escolha == 4:  # Sair\n",
        "                print(\"Operação encerrada. Obrigado!\")\n",
        "                break\n",
        "\n",
        "            else:\n",
        "                print(\"Opção inválida. Por favor, escolha uma operação válida.\")\n",
        "\n",
        "    else:\n",
        "        print(\"Código da conta ou senha incorretos. Tente novamente.\")\n",
        "        tentativas += 1\n",
        "\n",
        "if tentativas == 3:\n",
        "    print(\"Você excedeu o número máximo de tentativas. A conta foi cancelada.\")"
      ],
      "metadata": {
        "colab": {
          "base_uri": "https://localhost:8080/"
        },
        "id": "5k59LNjZ6_X_",
        "outputId": "f2cf4c10-1530-4b6b-e369-61635a68bb46"
      },
      "execution_count": null,
      "outputs": [
        {
          "output_type": "stream",
          "name": "stdout",
          "text": [
            "Digite o código da conta: 5\n",
            "Digite a senha: 1234\n",
            "Código da conta ou senha incorretos. Tente novamente.\n",
            "Digite o código da conta: 6\n",
            "Digite a senha: 5678\n",
            "Código da conta ou senha incorretos. Tente novamente.\n",
            "Digite o código da conta: 7\n",
            "Digite a senha: 8910\n",
            "Código da conta ou senha incorretos. Tente novamente.\n",
            "Você excedeu o número máximo de tentativas. A conta foi cancelada.\n"
          ]
        }
      ]
    },
    {
      "cell_type": "code",
      "source": [
        "# Inicialize as variáveis para o maior e o menor valor\n",
        "maior_valor = menor_valor = None\n",
        "\n",
        "while True:\n",
        "    valor = int(input(\"Digite um valor inteiro (ou 0 para encerrar): \"))\n",
        "\n",
        "    if valor == 0:\n",
        "        break  # Encerra a leitura se o usuário digitar zero\n",
        "\n",
        "    # Atualiza o maior e o menor valor\n",
        "    if maior_valor is None or valor > maior_valor:\n",
        "        maior_valor = valor\n",
        "    if menor_valor is None or valor < menor_valor:\n",
        "        menor_valor = valor\n",
        "\n",
        "if maior_valor is not None and menor_valor is not None:\n",
        "    print(f\"O maior valor digitado foi: {maior_valor}\")\n",
        "    print(f\"O menor valor digitado foi: {menor_valor}\")\n",
        "else:\n",
        "    print(\"Nenhum valor foi digitado.\")"
      ],
      "metadata": {
        "colab": {
          "base_uri": "https://localhost:8080/"
        },
        "id": "WJY6G2Br7PDp",
        "outputId": "491ecab3-8673-488c-b4c0-8a0d959fbcea"
      },
      "execution_count": null,
      "outputs": [
        {
          "output_type": "stream",
          "name": "stdout",
          "text": [
            "Digite um valor inteiro (ou 0 para encerrar): 1\n",
            "Digite um valor inteiro (ou 0 para encerrar): 2\n",
            "Digite um valor inteiro (ou 0 para encerrar): 3\n",
            "Digite um valor inteiro (ou 0 para encerrar): 222\n",
            "Digite um valor inteiro (ou 0 para encerrar): 0\n",
            "O maior valor digitado foi: 222\n",
            "O menor valor digitado foi: 1\n"
          ]
        }
      ]
    }
  ]
}